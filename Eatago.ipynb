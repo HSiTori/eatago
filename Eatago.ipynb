{
  "nbformat": 4,
  "nbformat_minor": 0,
  "metadata": {
    "colab": {
      "name": "Eatago.ipynb",
      "provenance": [],
      "collapsed_sections": [],
      "include_colab_link": true
    },
    "kernelspec": {
      "name": "python3",
      "display_name": "Python 3"
    },
    "language_info": {
      "name": "python"
    }
  },
  "cells": [
    {
      "cell_type": "markdown",
      "metadata": {
        "id": "view-in-github",
        "colab_type": "text"
      },
      "source": [
        "<a href=\"https://colab.research.google.com/github/sitori8354/eatago/blob/main/Eatago.ipynb\" target=\"_parent\"><img src=\"https://colab.research.google.com/assets/colab-badge.svg\" alt=\"Open In Colab\"/></a>"
      ]
    },
    {
      "cell_type": "code",
      "metadata": {
        "colab": {
          "base_uri": "https://localhost:8080/"
        },
        "id": "Zlvw1pqAUyPg",
        "outputId": "6cfd1106-79c6-4122-c407-14c6d1b8a4e0"
      },
      "source": [
        "!pip3 install -U pywebio\n",
        "# !pip install -U https://github.com/solrz/PyWebIO/archive/dev.zip"
      ],
      "execution_count": null,
      "outputs": [
        {
          "output_type": "stream",
          "text": [
            "Collecting pywebio\n",
            "\u001b[?25l  Downloading https://files.pythonhosted.org/packages/c3/bb/7d1c997292bd00e4c9dd8877b1b0f546f1f6766ebbdd2936d1418a0f27b7/pywebio-1.2.3.tar.gz (317kB)\n",
            "\r\u001b[K     |█                               | 10kB 18.4MB/s eta 0:00:01\r\u001b[K     |██                              | 20kB 24.5MB/s eta 0:00:01\r\u001b[K     |███                             | 30kB 12.7MB/s eta 0:00:01\r\u001b[K     |████▏                           | 40kB 10.0MB/s eta 0:00:01\r\u001b[K     |█████▏                          | 51kB 7.0MB/s eta 0:00:01\r\u001b[K     |██████▏                         | 61kB 8.2MB/s eta 0:00:01\r\u001b[K     |███████▎                        | 71kB 7.5MB/s eta 0:00:01\r\u001b[K     |████████▎                       | 81kB 8.2MB/s eta 0:00:01\r\u001b[K     |█████████▎                      | 92kB 7.7MB/s eta 0:00:01\r\u001b[K     |██████████▎                     | 102kB 6.7MB/s eta 0:00:01\r\u001b[K     |███████████▍                    | 112kB 6.7MB/s eta 0:00:01\r\u001b[K     |████████████▍                   | 122kB 6.7MB/s eta 0:00:01\r\u001b[K     |█████████████▍                  | 133kB 6.7MB/s eta 0:00:01\r\u001b[K     |██████████████▌                 | 143kB 6.7MB/s eta 0:00:01\r\u001b[K     |███████████████▌                | 153kB 6.7MB/s eta 0:00:01\r\u001b[K     |████████████████▌               | 163kB 6.7MB/s eta 0:00:01\r\u001b[K     |█████████████████▋              | 174kB 6.7MB/s eta 0:00:01\r\u001b[K     |██████████████████▋             | 184kB 6.7MB/s eta 0:00:01\r\u001b[K     |███████████████████▋            | 194kB 6.7MB/s eta 0:00:01\r\u001b[K     |████████████████████▋           | 204kB 6.7MB/s eta 0:00:01\r\u001b[K     |█████████████████████▊          | 215kB 6.7MB/s eta 0:00:01\r\u001b[K     |██████████████████████▊         | 225kB 6.7MB/s eta 0:00:01\r\u001b[K     |███████████████████████▊        | 235kB 6.7MB/s eta 0:00:01\r\u001b[K     |████████████████████████▉       | 245kB 6.7MB/s eta 0:00:01\r\u001b[K     |█████████████████████████▉      | 256kB 6.7MB/s eta 0:00:01\r\u001b[K     |██████████████████████████▉     | 266kB 6.7MB/s eta 0:00:01\r\u001b[K     |████████████████████████████    | 276kB 6.7MB/s eta 0:00:01\r\u001b[K     |█████████████████████████████   | 286kB 6.7MB/s eta 0:00:01\r\u001b[K     |██████████████████████████████  | 296kB 6.7MB/s eta 0:00:01\r\u001b[K     |███████████████████████████████ | 307kB 6.7MB/s eta 0:00:01\r\u001b[K     |████████████████████████████████| 317kB 6.7MB/s \n",
            "\u001b[?25hRequirement already satisfied, skipping upgrade: tornado>=5.0 in /usr/local/lib/python3.7/dist-packages (from pywebio) (5.1.1)\n",
            "Collecting user-agents\n",
            "  Downloading https://files.pythonhosted.org/packages/8f/1c/20bb3d7b2bad56d881e3704131ddedbb16eb787101306887dff349064662/user_agents-2.2.0-py3-none-any.whl\n",
            "Collecting ua-parser>=0.10.0\n",
            "  Downloading https://files.pythonhosted.org/packages/9d/22/4d16b08db329fd440eed366d35e4dd7195c9babb4ecac5218f28081522a2/ua_parser-0.10.0-py2.py3-none-any.whl\n",
            "Building wheels for collected packages: pywebio\n",
            "  Building wheel for pywebio (setup.py) ... \u001b[?25l\u001b[?25hdone\n",
            "  Created wheel for pywebio: filename=pywebio-1.2.3-cp37-none-any.whl size=322618 sha256=805f4acb3d69bf53d99bc3884d6d10e0b9db8fac0e4e2562110989e95a4ddaed\n",
            "  Stored in directory: /root/.cache/pip/wheels/f6/23/85/82f7b3b2b4bd9c3d171a9b3b1021aad59ec05d638e55954410\n",
            "Successfully built pywebio\n",
            "Installing collected packages: ua-parser, user-agents, pywebio\n",
            "Successfully installed pywebio-1.2.3 ua-parser-0.10.0 user-agents-2.2.0\n"
          ],
          "name": "stdout"
        }
      ]
    },
    {
      "cell_type": "code",
      "metadata": {
        "colab": {
          "base_uri": "https://localhost:8080/"
        },
        "id": "BIgeStUFVFXK",
        "outputId": "98c05b4d-41b0-44f2-e528-8cb7c4227f38"
      },
      "source": [
        "!wget https://bin.equinox.io/c/4VmDzA7iaHb/ngrok-stable-linux-amd64.zip\n",
        "!unzip ngrok-stable-linux-amd64.zip\n",
        "!wget https://raw.githubusercontent.com/solrz/pywebio-example/main/hello_world.py\n",
        "\n",
        "!pip3 install nest-asyncio"
      ],
      "execution_count": null,
      "outputs": [
        {
          "output_type": "stream",
          "text": [
            "--2021-05-14 14:43:55--  https://bin.equinox.io/c/4VmDzA7iaHb/ngrok-stable-linux-amd64.zip\n",
            "Resolving bin.equinox.io (bin.equinox.io)... 34.203.109.182, 52.202.162.45, 3.221.4.217, ...\n",
            "Connecting to bin.equinox.io (bin.equinox.io)|34.203.109.182|:443... connected.\n",
            "HTTP request sent, awaiting response... 200 OK\n",
            "Length: 13832437 (13M) [application/octet-stream]\n",
            "Saving to: ‘ngrok-stable-linux-amd64.zip’\n",
            "\n",
            "ngrok-stable-linux- 100%[===================>]  13.19M  18.9MB/s    in 0.7s    \n",
            "\n",
            "2021-05-14 14:43:56 (18.9 MB/s) - ‘ngrok-stable-linux-amd64.zip’ saved [13832437/13832437]\n",
            "\n",
            "Archive:  ngrok-stable-linux-amd64.zip\n",
            "  inflating: ngrok                   \n",
            "--2021-05-14 14:43:57--  https://raw.githubusercontent.com/solrz/pywebio-example/main/hello_world.py\n",
            "Resolving raw.githubusercontent.com (raw.githubusercontent.com)... 185.199.110.133, 185.199.108.133, 185.199.111.133, ...\n",
            "Connecting to raw.githubusercontent.com (raw.githubusercontent.com)|185.199.110.133|:443... connected.\n",
            "HTTP request sent, awaiting response... 200 OK\n",
            "Length: 96 [text/plain]\n",
            "Saving to: ‘hello_world.py’\n",
            "\n",
            "hello_world.py      100%[===================>]      96  --.-KB/s    in 0s      \n",
            "\n",
            "2021-05-14 14:43:57 (6.87 MB/s) - ‘hello_world.py’ saved [96/96]\n",
            "\n",
            "Requirement already satisfied: nest-asyncio in /usr/local/lib/python3.7/dist-packages (1.5.1)\n"
          ],
          "name": "stdout"
        }
      ]
    },
    {
      "cell_type": "code",
      "metadata": {
        "id": "KU_2lu3BVH1N"
      },
      "source": [
        "import random\n",
        "import os\n",
        "import time\n",
        "assign_port = 80\n",
        "import nest_asyncio\n",
        "from pywebio.input import *\n",
        "from pywebio.output import *\n",
        "import pywebio\n",
        "from multiprocessing import Process\n",
        "import sys, json\n",
        "import asyncio\n",
        "\n",
        "try:\n",
        "  del new_server\n",
        "  del start_app\n",
        "except:\n",
        "  pass\n",
        "\n",
        "nest_asyncio.apply()\n",
        "def new_server(target_app, port):\n",
        "  try:\n",
        "    if pywebio:\n",
        "      from importlib import reload\n",
        "      reload(pywebio)\n",
        "  except:\n",
        "    pass\n",
        "  return lambda: pywebio.start_server(target_app, port=port)\n",
        "\n",
        "previous_process = None\n",
        "ports = [80]\n",
        "\n",
        "def start_app(target_app):\n",
        "  assign_port = random.randint(5000,9999)\n",
        "  global ports\n",
        "  while assign_port in ports:\n",
        "    assign_port += 1\n",
        "  ports += [assign_port]\n",
        "  tunnel_port = f'1{assign_port}'\n",
        "  ngrok_file = f'./ngrok_config_{tunnel_port}'\n",
        "  with open(ngrok_file, 'w') as f:\n",
        "    f.write('web_addr: '+tunnel_port)\n",
        "  get_ipython().system_raw(f'./ngrok http {assign_port} --config \"{ngrok_file}\" &')\n",
        "  time.sleep(2)\n",
        "  forward_info_raw = !curl -s http://localhost:$tunnel_port/api/tunnels \n",
        "  # print(forward_info_raw)\n",
        "\n",
        "  forward_info = json.loads(forward_info_raw[0])\n",
        "  print(f'請拖曳網址到新視窗來打開App（每次網址都會更新喔！）: \\n{forward_info[\"tunnels\"][0][\"public_url\"]}')\n",
        "  # | python3 -c \\\n",
        "  #    'import sys, json; print(\"請拖曳網址到新視窗來打開App（每次網址都會更新喔！）: \" +json.load(sys.stdin)[\"tunnels\"][0][\"public_url\"])'\n",
        "  global previous_process\n",
        "  if previous_process:\n",
        "    previous_process.terminate()\n",
        "  previous_process = Process(target=new_server(target_app, assign_port))\n",
        "  previous_process.daemon = True\n",
        "  previous_process.start()\n",
        "\n"
      ],
      "execution_count": 6,
      "outputs": []
    },
    {
      "cell_type": "code",
      "metadata": {
        "colab": {
          "base_uri": "https://localhost:8080/"
        },
        "id": "pIH7rtkdVM6w",
        "outputId": "c0151467-0d17-460f-9187-f26954b3ad02"
      },
      "source": [
        "def example_hello_world_app():\n",
        "  put_text('hello_world！')\n",
        "  name = input('花枝魷魚麵？')\n",
        "  put_text(f'{name} 早安, 歡迎使用我的App')\n",
        "\n",
        "def inertactive_app():\n",
        "  enable_print_convert_to_put_text = True\n",
        "  put_markdown('# Python 即時編譯Web App')\n",
        "  put_markdown('在這裡，你可以直接輸入程式碼，快速測試你的code')\n",
        "  code = \"put_markdown('# 我可以讀透你的內心...')\\nname = input('首先，請問大名？')\\nput_text(f'你的名字叫{name}，猜對了吧！')\\n\"\n",
        "  round = 1\n",
        "  while True:\n",
        "    put_text(f'第{round}次執行')\n",
        "    code = textarea('輸入程式', code={\n",
        "      'mode': \"python\",  # code language\n",
        "      'theme': 'darcula',  # Codemirror theme. Visit https://codemirror.net/demo/theme.html#cobalt to get more themes\n",
        "    }, value=code)\n",
        "    put_markdown('---')\n",
        "    put_code(code)\n",
        "    try:\n",
        "      exec(code.replace('print(','put_text('))\n",
        "    except Exception as e:\n",
        "      put_text(e)\n",
        "    put_markdown('---')\n",
        "    round += 1\n",
        "\n",
        "\n",
        "# 把 start_app(example_hello_world_app) 的 「example_hello_world_app」是會執行App\n"
      ],
      "execution_count": null,
      "outputs": [
        {
          "output_type": "stream",
          "text": [
            "請拖曳網址到新視窗來打開App（每次網址都會更新喔！）: \n",
            "https://88bcfb5e4a60.ngrok.io\n",
            "Listen on 0.0.0.0:5801\n"
          ],
          "name": "stdout"
        }
      ]
    },
    {
      "cell_type": "code",
      "metadata": {
        "id": "FLfKtcUkgbw9",
        "outputId": "9c0ad0ea-6420-4381-ba5d-b9d577123976",
        "colab": {
          "base_uri": "https://localhost:8080/"
        }
      },
      "source": [
        "def edit():\n",
        "    put_text(\"You click edit button\")\n",
        "    \n",
        "def delete():\n",
        "    put_text(\"You click delete button\")\n",
        "\n",
        "def action():\n",
        "  put_buttons(['edit', 'delete'], onclick=[edit, delete])\n",
        "\n",
        "start_app(action)\n",
        "\n"
      ],
      "execution_count": 7,
      "outputs": [
        {
          "output_type": "stream",
          "text": [
            "請拖曳網址到新視窗來打開App（每次網址都會更新喔！）: \n",
            "https://e09c1d6789e2.ngrok.io\n",
            "Listen on 0.0.0.0:6574\n"
          ],
          "name": "stdout"
        }
      ]
    }
  ]
}