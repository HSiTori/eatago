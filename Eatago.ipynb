{
  "nbformat": 4,
  "nbformat_minor": 0,
  "metadata": {
    "colab": {
      "name": "Eatago.ipynb",
      "provenance": [],
      "collapsed_sections": [],
      "include_colab_link": true
    },
    "kernelspec": {
      "name": "python3",
      "display_name": "Python 3"
    },
    "language_info": {
      "name": "python"
    }
  },
  "cells": [
    {
      "cell_type": "markdown",
      "metadata": {
        "id": "view-in-github",
        "colab_type": "text"
      },
      "source": [
        "<a href=\"https://colab.research.google.com/github/sitori8354/eatago/blob/main/Eatago.ipynb\" target=\"_parent\"><img src=\"https://colab.research.google.com/assets/colab-badge.svg\" alt=\"Open In Colab\"/></a>"
      ]
    },
    {
      "cell_type": "code",
      "metadata": {
        "colab": {
          "base_uri": "https://localhost:8080/"
        },
        "id": "Zlvw1pqAUyPg",
        "outputId": "dfe978cf-a165-4a16-baaf-bb2d42dc4cea"
      },
      "source": [
        "!pip3 install -U pywebio\n",
        "# !pip install -U https://github.com/solrz/PyWebIO/archive/dev.zip"
      ],
      "execution_count": 1,
      "outputs": [
        {
          "output_type": "stream",
          "text": [
            "Requirement already up-to-date: pywebio in /usr/local/lib/python3.7/dist-packages (1.2.3)\n",
            "Requirement already satisfied, skipping upgrade: tornado>=5.0 in /usr/local/lib/python3.7/dist-packages (from pywebio) (5.1.1)\n",
            "Requirement already satisfied, skipping upgrade: user-agents in /usr/local/lib/python3.7/dist-packages (from pywebio) (2.2.0)\n",
            "Requirement already satisfied, skipping upgrade: ua-parser>=0.10.0 in /usr/local/lib/python3.7/dist-packages (from user-agents->pywebio) (0.10.0)\n"
          ],
          "name": "stdout"
        }
      ]
    },
    {
      "cell_type": "code",
      "metadata": {
        "colab": {
          "base_uri": "https://localhost:8080/"
        },
        "id": "BIgeStUFVFXK",
        "outputId": "62450029-0bdc-4593-e683-ece02834eeba"
      },
      "source": [
        "!wget https://bin.equinox.io/c/4VmDzA7iaHb/ngrok-stable-linux-amd64.zip\n",
        "!unzip ngrok-stable-linux-amd64.zip\n",
        "!wget https://raw.githubusercontent.com/solrz/pywebio-example/main/hello_world.py\n",
        "\n",
        "!pip3 install nest-asyncio"
      ],
      "execution_count": 2,
      "outputs": [
        {
          "output_type": "stream",
          "text": [
            "--2021-05-14 18:44:18--  https://bin.equinox.io/c/4VmDzA7iaHb/ngrok-stable-linux-amd64.zip\n",
            "Resolving bin.equinox.io (bin.equinox.io)... 3.227.65.201, 52.204.244.158, 52.204.93.39, ...\n",
            "Connecting to bin.equinox.io (bin.equinox.io)|3.227.65.201|:443... connected.\n",
            "HTTP request sent, awaiting response... 200 OK\n",
            "Length: 13832437 (13M) [application/octet-stream]\n",
            "Saving to: ‘ngrok-stable-linux-amd64.zip.6’\n",
            "\n",
            "ngrok-stable-linux- 100%[===================>]  13.19M  55.9MB/s    in 0.2s    \n",
            "\n",
            "2021-05-14 18:44:18 (55.9 MB/s) - ‘ngrok-stable-linux-amd64.zip.6’ saved [13832437/13832437]\n",
            "\n",
            "Archive:  ngrok-stable-linux-amd64.zip\n",
            "replace ngrok? [y]es, [n]o, [A]ll, [N]one, [r]ename: y\n",
            "  inflating: ngrok                   \n",
            "--2021-05-14 18:44:23--  https://raw.githubusercontent.com/solrz/pywebio-example/main/hello_world.py\n",
            "Resolving raw.githubusercontent.com (raw.githubusercontent.com)... 185.199.108.133, 185.199.109.133, 185.199.110.133, ...\n",
            "Connecting to raw.githubusercontent.com (raw.githubusercontent.com)|185.199.108.133|:443... connected.\n",
            "HTTP request sent, awaiting response... 200 OK\n",
            "Length: 96 [text/plain]\n",
            "Saving to: ‘hello_world.py.5’\n",
            "\n",
            "hello_world.py.5    100%[===================>]      96  --.-KB/s    in 0s      \n",
            "\n",
            "2021-05-14 18:44:23 (4.04 MB/s) - ‘hello_world.py.5’ saved [96/96]\n",
            "\n",
            "Requirement already satisfied: nest-asyncio in /usr/local/lib/python3.7/dist-packages (1.5.1)\n"
          ],
          "name": "stdout"
        }
      ]
    },
    {
      "cell_type": "code",
      "metadata": {
        "id": "KU_2lu3BVH1N"
      },
      "source": [
        "import random\n",
        "import os\n",
        "import time\n",
        "assign_port = 80\n",
        "import nest_asyncio\n",
        "from pywebio.input import *\n",
        "from pywebio.output import *\n",
        "import pywebio\n",
        "from multiprocessing import Process\n",
        "import sys, json\n",
        "import asyncio\n",
        "\n",
        "try:\n",
        "  del new_server\n",
        "  del start_app\n",
        "except:\n",
        "  pass\n",
        "\n",
        "nest_asyncio.apply()\n",
        "def new_server(target_app, port):\n",
        "  try:\n",
        "    if pywebio:\n",
        "      from importlib import reload\n",
        "      reload(pywebio)\n",
        "  except:\n",
        "    pass\n",
        "  return lambda: pywebio.start_server(target_app, port=port)\n",
        "\n",
        "previous_process = None\n",
        "ports = [80]\n",
        "\n",
        "def start_app(target_app):\n",
        "  assign_port = random.randint(5000,9999)\n",
        "  global ports\n",
        "  while assign_port in ports:\n",
        "    assign_port += 1\n",
        "  ports += [assign_port]\n",
        "  tunnel_port = f'1{assign_port}'\n",
        "  ngrok_file = f'./ngrok_config_{tunnel_port}'\n",
        "  with open(ngrok_file, 'w') as f:\n",
        "    f.write('web_addr: '+tunnel_port)\n",
        "  get_ipython().system_raw(f'./ngrok http {assign_port} --config \"{ngrok_file}\" &')\n",
        "  time.sleep(2)\n",
        "  forward_info_raw = !curl -s http://localhost:$tunnel_port/api/tunnels \n",
        "  # print(forward_info_raw)\n",
        "\n",
        "  forward_info = json.loads(forward_info_raw[0])\n",
        "  print(f'請拖曳網址到新視窗來打開App（每次網址都會更新喔！）: \\n{forward_info[\"tunnels\"][0][\"public_url\"]}')\n",
        "  # | python3 -c \\\n",
        "  #    'import sys, json; print(\"請拖曳網址到新視窗來打開App（每次網址都會更新喔！）: \" +json.load(sys.stdin)[\"tunnels\"][0][\"public_url\"])'\n",
        "  global previous_process\n",
        "  if previous_process:\n",
        "    previous_process.terminate()\n",
        "  previous_process = Process(target=new_server(target_app, assign_port))\n",
        "  previous_process.daemon = True\n",
        "  previous_process.start()\n",
        "\n"
      ],
      "execution_count": 3,
      "outputs": []
    },
    {
      "cell_type": "code",
      "metadata": {
        "id": "pIH7rtkdVM6w"
      },
      "source": [
        "def example_hello_world_app():\n",
        "  put_text('hello_world！')\n",
        "  name = input('花枝魷魚麵？')\n",
        "  put_text(f'{name} 早安, 歡迎使用我的App')\n",
        "\n",
        "def inertactive_app():\n",
        "  enable_print_convert_to_put_text = True\n",
        "  put_markdown('# Python 即時編譯Web App')\n",
        "  put_markdown('在這裡，你可以直接輸入程式碼，快速測試你的code')\n",
        "  code = \"put_markdown('# 我可以讀透你的內心...')\\nname = input('首先，請問大名？')\\nput_text(f'你的名字叫{name}，猜對了吧！')\\n\"\n",
        "  round = 1\n",
        "  while True:\n",
        "    put_text(f'第{round}次執行')\n",
        "    code = textarea('輸入程式', code={\n",
        "      'mode': \"python\",  # code language\n",
        "      'theme': 'darcula',  # Codemirror theme. Visit https://codemirror.net/demo/theme.html#cobalt to get more themes\n",
        "    }, value=code)\n",
        "    put_markdown('---')\n",
        "    put_code(code)\n",
        "    try:\n",
        "      exec(code.replace('print(','put_text('))\n",
        "    except Exception as e:\n",
        "      put_text(e)\n",
        "    put_markdown('---')\n",
        "    round += 1\n",
        "\n",
        "\n",
        "# 把 start_app(example_hello_world_app) 的 「example_hello_world_app」是會執行App\n"
      ],
      "execution_count": 4,
      "outputs": []
    },
    {
      "cell_type": "code",
      "metadata": {
        "id": "FLfKtcUkgbw9",
        "colab": {
          "base_uri": "https://localhost:8080/"
        },
        "outputId": "cff48e8e-4244-471e-d4b5-fb301e62c637"
      },
      "source": [
        "def task_1():\n",
        "    put_text('task_1')\n",
        "    put_buttons(['Go task 2'], [lambda: go_app('task_2')])\n",
        "    hold()\n",
        "\n",
        "def task_2():\n",
        "    put_text('task_2')\n",
        "    put_buttons(['Go task 1'], [lambda: go_app('task_1')])\n",
        "    gift = select('what?', ['ta','ya'])\n",
        "    hold()\n",
        "\n",
        "def index():\n",
        "    put_link('Go task 1', app='task_1')  #  使用app参数指定任务名\n",
        "    put_link('Go task 2', app='task_2')\n",
        "\n",
        "# 等价于 start_server({'index': index, 'task_1': task_1, 'task_2': task_2})\n",
        "start_app([index, task_1, task_2])"
      ],
      "execution_count": 5,
      "outputs": [
        {
          "output_type": "stream",
          "text": [
            "請拖曳網址到新視窗來打開App（每次網址都會更新喔！）: \n",
            "https://950ebb9c7872.ngrok.io\n",
            "Listen on 0.0.0.0:7606\n"
          ],
          "name": "stdout"
        }
      ]
    }
  ]
}